{
 "cells": [
  {
   "cell_type": "code",
   "execution_count": null,
   "metadata": {},
   "outputs": [],
   "source": [
    "import cv2\n",
    "import IPython.display \n",
    "import importlib\n",
    "import skimage.io as imgio\n",
    "import numpy as np\n",
    "import os\n",
    "import torch\n",
    "import torch.nn.functional as F\n",
    "import math\n",
    "import re\n",
    "from skimage.external.tifffile import imread\n",
    "\n",
    "def imshow(img):\n",
    "    _,ret = cv2.imencode('.jpg', img) \n",
    "    i = IPython.display.Image(data=ret)\n",
    "    IPython.display.display(i)\n",
    "    \n",
    "def showCube(vol):\n",
    "    v1=np.max(vol,axis=0)\n",
    "    v2=np.max(vol,axis=1)\n",
    "    v3=np.max(vol,axis=2)\n",
    "    imshow(v1*255)\n",
    "    imshow(v2*255)\n",
    "    imshow(v3*255)"
   ]
  },
  {
   "cell_type": "code",
   "execution_count": null,
   "metadata": {},
   "outputs": [],
   "source": [
    "exec(open(\"trainFiles.txt\").read())\n",
    "skip=50\n",
    "count=0\n",
    "for i in range(len(trainFiles)):\n",
    "    count=count+1\n",
    "    if count%skip==1:\n",
    "        ll=np.load(trainFiles[i][1])\n",
    "        #showCube(ll)\n",
    "        ll_1=np.max(ll,axis=0)\n",
    "        ll_2=np.max(ll,axis=1)\n",
    "        ll_3=np.max(ll,axis=2)\n",
    "        ii=np.load(trainFiles[i][0])\n",
    "        ii-=np.min(ii)\n",
    "        ii=ii/np.max(ii)\n",
    "        #showCube(i1)\n",
    "        ii_1=np.max(ii,axis=0)\n",
    "        ii_2=np.max(ii,axis=1)\n",
    "        ii_3=np.max(ii,axis=2)\n",
    "        #imshow(np.stack((np.zeros_like(ll_1),ll_1,ii_1),axis=2)*255)\n",
    "        #imshow(np.stack((np.zeros_like(ll_2),ll_2,ii_2),axis=2)*255)\n",
    "        #imshow(np.stack((np.zeros_like(ll_3),ll_3,ii_3),axis=2)*255)\n",
    "        \n",
    "        ml_1=np.load(trainFiles[i][2][0])\n",
    "        ml_2=np.load(trainFiles[i][2][1])\n",
    "        ml_3=np.load(trainFiles[i][2][2])\n",
    "        imshow(np.stack((np.zeros_like(ll_1),ml_1,ii_1),axis=2)*255)\n",
    "        imshow(np.stack((np.zeros_like(ll_2),ml_2,ii_2),axis=2)*255)\n",
    "        imshow(np.stack((np.zeros_like(ll_3),ml_3,ii_3),axis=2)*255)"
   ]
  },
  {
   "cell_type": "code",
   "execution_count": null,
   "metadata": {},
   "outputs": [],
   "source": []
  }
 ],
 "metadata": {
  "kernelspec": {
   "display_name": "Python 3",
   "language": "python",
   "name": "python3"
  },
  "language_info": {
   "codemirror_mode": {
    "name": "ipython",
    "version": 3
   },
   "file_extension": ".py",
   "mimetype": "text/x-python",
   "name": "python",
   "nbconvert_exporter": "python",
   "pygments_lexer": "ipython3",
   "version": "3.6.8"
  }
 },
 "nbformat": 4,
 "nbformat_minor": 2
}
